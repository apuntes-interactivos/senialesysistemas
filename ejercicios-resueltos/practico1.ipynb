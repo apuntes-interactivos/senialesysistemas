{
 "cells": [
  {
   "cell_type": "markdown",
   "metadata": {},
   "source": [
    "# Análisis de Señales y Sistemas.\n",
    "# UTN FRM Ingeniería en Electrónica.\n",
    "# Trabajo Práctico nº 1"
   ]
  },
  {
   "cell_type": "markdown",
   "metadata": {},
   "source": [
    "Al ejecutar la siguiente celda se importan las librerías necesarias para ejecutar este práctico. Se debe ejecutar cada vez que se abra el notebook ya que el entorno de variables se borra al cerrarlo."
   ]
  },
  {
   "cell_type": "code",
   "execution_count": 5,
   "metadata": {
    "ExecuteTime": {
     "end_time": "2021-03-18T12:35:57.526884Z",
     "start_time": "2021-03-18T12:35:56.188977Z"
    }
   },
   "outputs": [],
   "source": [
    "from IPython.display import display, Math\n",
    "import cmath as cm\n",
    "import matplotlib.pyplot as plt\n",
    "import numpy as np\n",
    "from sympy import symbols, Eq, I, re, im, exp\n"
   ]
  },
  {
   "cell_type": "markdown",
   "metadata": {},
   "source": [
    "# Operaciones con complejos"
   ]
  },
  {
   "cell_type": "markdown",
   "metadata": {},
   "source": [
    "## 1) Dados $z_1=3-6i$; $z_2=2+5i$; $z_3=-3+4i$; comprobar el resultado de las operaciones indicadas"
   ]
  },
  {
   "cell_type": "markdown",
   "metadata": {},
   "source": [
    "### a) $z_1.z_2$"
   ]
  },
  {
   "cell_type": "code",
   "execution_count": 2,
   "metadata": {
    "ExecuteTime": {
     "end_time": "2021-03-17T18:11:46.514577Z",
     "start_time": "2021-03-17T18:11:46.508359Z"
    }
   },
   "outputs": [
    {
     "data": {
      "text/plain": [
       "(36+3j)"
      ]
     },
     "execution_count": 2,
     "metadata": {},
     "output_type": "execute_result"
    }
   ],
   "source": [
    "z1 = 3-6j\n",
    "z2 = 2 + 5j\n",
    "z3 = -3 + 4j\n",
    "\n",
    "za = z1*z2\n",
    "za"
   ]
  },
  {
   "cell_type": "markdown",
   "metadata": {},
   "source": [
    "### b) $z_1\\bar{z_2}$"
   ]
  },
  {
   "cell_type": "code",
   "execution_count": 3,
   "metadata": {
    "ExecuteTime": {
     "end_time": "2021-03-17T18:11:46.523514Z",
     "start_time": "2021-03-17T18:11:46.518456Z"
    }
   },
   "outputs": [
    {
     "data": {
      "text/plain": [
       "(-24-27j)"
      ]
     },
     "execution_count": 3,
     "metadata": {},
     "output_type": "execute_result"
    }
   ],
   "source": [
    "zb = z1 * z2.conjugate()\n",
    "zb"
   ]
  },
  {
   "cell_type": "markdown",
   "metadata": {},
   "source": [
    "### c) $z_1^{-1}$"
   ]
  },
  {
   "cell_type": "code",
   "execution_count": 4,
   "metadata": {
    "ExecuteTime": {
     "end_time": "2021-03-17T18:11:46.531076Z",
     "start_time": "2021-03-17T18:11:46.526035Z"
    }
   },
   "outputs": [
    {
     "data": {
      "text/plain": [
       "(0.06666666666666667+0.13333333333333333j)"
      ]
     },
     "execution_count": 4,
     "metadata": {},
     "output_type": "execute_result"
    }
   ],
   "source": [
    "zc = 1/z1\n",
    "zc"
   ]
  },
  {
   "cell_type": "markdown",
   "metadata": {},
   "source": [
    "### d) $\\frac{z_2}{z_3}$"
   ]
  },
  {
   "cell_type": "code",
   "execution_count": 5,
   "metadata": {
    "ExecuteTime": {
     "end_time": "2021-03-17T18:11:46.538405Z",
     "start_time": "2021-03-17T18:11:46.533411Z"
    }
   },
   "outputs": [
    {
     "data": {
      "text/plain": [
       "(0.56-0.92j)"
      ]
     },
     "execution_count": 5,
     "metadata": {},
     "output_type": "execute_result"
    }
   ],
   "source": [
    "zd = z2/z3\n",
    "zd"
   ]
  },
  {
   "cell_type": "markdown",
   "metadata": {},
   "source": [
    "### e) $[z_1+z_3]^2$"
   ]
  },
  {
   "cell_type": "code",
   "execution_count": 6,
   "metadata": {
    "ExecuteTime": {
     "end_time": "2021-03-17T18:11:46.548843Z",
     "start_time": "2021-03-17T18:11:46.540883Z"
    }
   },
   "outputs": [
    {
     "data": {
      "text/plain": [
       "(-4-0j)"
      ]
     },
     "execution_count": 6,
     "metadata": {},
     "output_type": "execute_result"
    }
   ],
   "source": [
    "ze = (z1 + z3)**2\n",
    "ze"
   ]
  },
  {
   "cell_type": "markdown",
   "metadata": {},
   "source": [
    "### f) $[z_2-z_3]^2$"
   ]
  },
  {
   "cell_type": "code",
   "execution_count": 7,
   "metadata": {
    "ExecuteTime": {
     "end_time": "2021-03-17T18:11:46.557722Z",
     "start_time": "2021-03-17T18:11:46.551659Z"
    }
   },
   "outputs": [
    {
     "data": {
      "text/plain": [
       "(24+10j)"
      ]
     },
     "execution_count": 7,
     "metadata": {},
     "output_type": "execute_result"
    }
   ],
   "source": [
    "zf = (z2 - z3)**2\n",
    "zf"
   ]
  },
  {
   "cell_type": "markdown",
   "metadata": {},
   "source": [
    "## 2) Expresar los complejos dados en forma polar y trigonométrica. Graficar."
   ]
  },
  {
   "cell_type": "markdown",
   "metadata": {},
   "source": [
    "### a) 1"
   ]
  },
  {
   "cell_type": "code",
   "execution_count": 8,
   "metadata": {
    "ExecuteTime": {
     "end_time": "2021-03-17T18:11:46.571797Z",
     "start_time": "2021-03-17T18:11:46.561274Z"
    }
   },
   "outputs": [
    {
     "data": {
      "text/latex": [
       "$\\displaystyle 1.0e^{i0.0}$"
      ],
      "text/plain": [
       "<IPython.core.display.Math object>"
      ]
     },
     "metadata": {},
     "output_type": "display_data"
    },
    {
     "data": {
      "text/latex": [
       "$\\displaystyle 1.0[cos(0.0)+isin(0.0)]$"
      ],
      "text/plain": [
       "<IPython.core.display.Math object>"
      ]
     },
     "metadata": {},
     "output_type": "display_data"
    }
   ],
   "source": [
    "\n",
    "\n",
    "z = 1+0j\n",
    "modulo=round(abs(z),2)\n",
    "fase=round(cm.phase(z),2)\n",
    "tupla=cm.polar(z)\n",
    "\n",
    "rta_polar=str(modulo)+\"e^{i\"+str(fase)+\"}\"\n",
    "\n",
    "display(Math(rta_polar))\n",
    "\n",
    "rta_trig=str(modulo)+\"[cos(\"+str(fase)+\")+isin(\"+str(fase)+\")]\"\n",
    "display(Math(rta_trig))\n"
   ]
  },
  {
   "cell_type": "markdown",
   "metadata": {
    "ExecuteTime": {
     "end_time": "2021-03-12T15:51:04.548013Z",
     "start_time": "2021-03-12T15:51:04.543982Z"
    }
   },
   "source": [
    "### b) $\\frac{-2}{5}$\n"
   ]
  },
  {
   "cell_type": "code",
   "execution_count": 9,
   "metadata": {
    "ExecuteTime": {
     "end_time": "2021-03-17T18:11:46.583717Z",
     "start_time": "2021-03-17T18:11:46.574325Z"
    }
   },
   "outputs": [
    {
     "data": {
      "text/latex": [
       "$\\displaystyle 0.4e^{i3.14}$"
      ],
      "text/plain": [
       "<IPython.core.display.Math object>"
      ]
     },
     "metadata": {},
     "output_type": "display_data"
    },
    {
     "data": {
      "text/latex": [
       "$\\displaystyle 0.4[cos(3.14)+isin(3.14)]$"
      ],
      "text/plain": [
       "<IPython.core.display.Math object>"
      ]
     },
     "metadata": {},
     "output_type": "display_data"
    }
   ],
   "source": [
    "z=-2/5+0j\n",
    "modulo=round(abs(z),2)\n",
    "fase=round(cm.phase(z),2)\n",
    "tupla=cm.polar(z)\n",
    "\n",
    "rta_polar=str(modulo)+\"e^{i\"+str(fase)+\"}\"\n",
    "\n",
    "display(Math(rta_polar))\n",
    "\n",
    "rta_trig=str(modulo)+\"[cos(\"+str(fase)+\")+isin(\"+str(fase)+\")]\"\n",
    "display(Math(rta_trig))\n",
    "\n"
   ]
  },
  {
   "cell_type": "markdown",
   "metadata": {},
   "source": [
    "### c) $z=i$"
   ]
  },
  {
   "cell_type": "code",
   "execution_count": 10,
   "metadata": {
    "ExecuteTime": {
     "end_time": "2021-03-17T18:11:46.595853Z",
     "start_time": "2021-03-17T18:11:46.586060Z"
    }
   },
   "outputs": [
    {
     "data": {
      "text/latex": [
       "$\\displaystyle 1.0e^{i1.57}$"
      ],
      "text/plain": [
       "<IPython.core.display.Math object>"
      ]
     },
     "metadata": {},
     "output_type": "display_data"
    },
    {
     "data": {
      "text/latex": [
       "$\\displaystyle 1.0[cos(1.57)+isin(1.57)]$"
      ],
      "text/plain": [
       "<IPython.core.display.Math object>"
      ]
     },
     "metadata": {},
     "output_type": "display_data"
    }
   ],
   "source": [
    "z=0+1j\n",
    "modulo=round(abs(z),2)\n",
    "fase=round(cm.phase(z),2)\n",
    "tupla=cm.polar(z)\n",
    "\n",
    "rta_polar=str(modulo)+\"e^{i\"+str(fase)+\"}\"\n",
    "\n",
    "display(Math(rta_polar))\n",
    "\n",
    "rta_trig=str(modulo)+\"[cos(\"+str(fase)+\")+isin(\"+str(fase)+\")]\"\n",
    "display(Math(rta_trig))\n"
   ]
  },
  {
   "cell_type": "markdown",
   "metadata": {
    "ExecuteTime": {
     "end_time": "2021-03-12T16:22:51.811594Z",
     "start_time": "2021-03-12T16:22:51.806797Z"
    }
   },
   "source": [
    "### d) $z=-\\sqrt{3}i$"
   ]
  },
  {
   "cell_type": "code",
   "execution_count": 11,
   "metadata": {
    "ExecuteTime": {
     "end_time": "2021-03-17T18:11:46.607089Z",
     "start_time": "2021-03-17T18:11:46.598405Z"
    }
   },
   "outputs": [
    {
     "data": {
      "text/latex": [
       "$\\displaystyle 1.44e^{i-1.57}$"
      ],
      "text/plain": [
       "<IPython.core.display.Math object>"
      ]
     },
     "metadata": {},
     "output_type": "display_data"
    },
    {
     "data": {
      "text/latex": [
       "$\\displaystyle 1.44[cos(-1.57)+isin(-1.57)]$"
      ],
      "text/plain": [
       "<IPython.core.display.Math object>"
      ]
     },
     "metadata": {},
     "output_type": "display_data"
    }
   ],
   "source": [
    "\n",
    "z=0-(3**(1/3))*1j\n",
    "modulo=round(abs(z),2)\n",
    "fase=round(cm.phase(z),2)\n",
    "tupla=cm.polar(z)\n",
    "\n",
    "rta_polar=str(modulo)+\"e^{i\"+str(fase)+\"}\"\n",
    "\n",
    "display(Math(rta_polar))\n",
    "\n",
    "rta_trig=str(modulo)+\"[cos(\"+str(fase)+\")+isin(\"+str(fase)+\")]\"\n",
    "display(Math(rta_trig))\n"
   ]
  },
  {
   "cell_type": "code",
   "execution_count": 12,
   "metadata": {
    "ExecuteTime": {
     "end_time": "2021-03-17T18:11:46.615722Z",
     "start_time": "2021-03-17T18:11:46.610045Z"
    }
   },
   "outputs": [
    {
     "data": {
      "text/plain": [
       "1.4422495703074083"
      ]
     },
     "execution_count": 12,
     "metadata": {},
     "output_type": "execute_result"
    }
   ],
   "source": [
    "3**(1/3)"
   ]
  },
  {
   "cell_type": "markdown",
   "metadata": {},
   "source": [
    "### e) $4+4i$"
   ]
  },
  {
   "cell_type": "code",
   "execution_count": 13,
   "metadata": {
    "ExecuteTime": {
     "end_time": "2021-03-17T18:11:46.628654Z",
     "start_time": "2021-03-17T18:11:46.618448Z"
    }
   },
   "outputs": [
    {
     "data": {
      "text/latex": [
       "$\\displaystyle 5.66e^{i0.79}$"
      ],
      "text/plain": [
       "<IPython.core.display.Math object>"
      ]
     },
     "metadata": {},
     "output_type": "display_data"
    },
    {
     "data": {
      "text/latex": [
       "$\\displaystyle 5.66[cos(0.79)+isin(0.79)]$"
      ],
      "text/plain": [
       "<IPython.core.display.Math object>"
      ]
     },
     "metadata": {},
     "output_type": "display_data"
    }
   ],
   "source": [
    "\n",
    "z=4+4j\n",
    "modulo=round(abs(z),2)\n",
    "fase=round(cm.phase(z),2)\n",
    "tupla=cm.polar(z)\n",
    "\n",
    "rta_polar=str(modulo)+\"e^{i\"+str(fase)+\"}\"\n",
    "\n",
    "display(Math(rta_polar))\n",
    "\n",
    "rta_trig=str(modulo)+\"[cos(\"+str(fase)+\")+isin(\"+str(fase)+\")]\"\n",
    "display(Math(rta_trig))\n"
   ]
  },
  {
   "cell_type": "markdown",
   "metadata": {},
   "source": [
    "## 3) Demostrar las siguientes igualdades.\n",
    "\t\t\n",
    "\n",
    "### a) $z+\\bar{z}=2x$\t\t\t\n",
    "\n",
    "### b) $z-\\bar{z}=2yi$ **\t\t\t\t\t\t\n",
    "\n",
    "### c) $\\overline{z_1 + z_2}=\\bar{z_1}+\\bar{z_2}$\t\n",
    "\n",
    "### d) $\\overline{z_1-z_2}=\\bar{z_1}-\\bar{z_2}$\t\t\t\n",
    "\n",
    "### e) $\\overline{z_1 z_2}=\\bar{z_1}\\bar{z_2}$ **\t\t\t\n",
    "\n",
    "### f) $\\overline{ \\big( \\frac{z_1}{z_2}\\big)}=\\frac{\\overline{z_1}}{\\overline{z_2}}$\t\t\t\t\t\t\n",
    "\n"
   ]
  },
  {
   "cell_type": "markdown",
   "metadata": {},
   "source": [
    "## 4) Demostrar las siguientes igualdades.\n",
    "\n",
    "### a) $|z|=\\sqrt{z\\bar{z}}$\t\n",
    "\n",
    "### b) $ |\\frac{z}{\\bar{z}}|=1$\t\n",
    "\n",
    "### c) $|\\cos{(\\theta)}+i \\sin{(\\theta)}|=1$\t\n"
   ]
  },
  {
   "cell_type": "markdown",
   "metadata": {},
   "source": [
    "# Potencia de un número complejo."
   ]
  },
  {
   "cell_type": "markdown",
   "metadata": {},
   "source": [
    "## 5) Expresar los complejos dados en forma polar y trigonométrica."
   ]
  },
  {
   "cell_type": "markdown",
   "metadata": {},
   "source": [
    "### a) $(-1+\\sqrt{3}i)^{10}$"
   ]
  },
  {
   "cell_type": "code",
   "execution_count": 14,
   "metadata": {
    "ExecuteTime": {
     "end_time": "2021-03-17T18:11:46.640567Z",
     "start_time": "2021-03-17T18:11:46.630822Z"
    }
   },
   "outputs": [
    {
     "data": {
      "text/latex": [
       "$\\displaystyle 1024.0e^{i2.09}$"
      ],
      "text/plain": [
       "<IPython.core.display.Math object>"
      ]
     },
     "metadata": {},
     "output_type": "display_data"
    },
    {
     "data": {
      "text/latex": [
       "$\\displaystyle 1024.0[cos(2.09)+isin(2.09)]$"
      ],
      "text/plain": [
       "<IPython.core.display.Math object>"
      ]
     },
     "metadata": {},
     "output_type": "display_data"
    }
   ],
   "source": [
    "z=(-1+3**0.5*1j)**10\n",
    "modulo=round(abs(z),2)\n",
    "fase=round(cm.phase(z),2)\n",
    "tupla=cm.polar(z)\n",
    "\n",
    "rta_polar=str(modulo)+\"e^{i\"+str(fase)+\"}\"\n",
    "\n",
    "display(Math(rta_polar))\n",
    "\n",
    "rta_trig=str(modulo)+\"[cos(\"+str(fase)+\")+isin(\"+str(fase)+\")]\"\n",
    "display(Math(rta_trig))\n"
   ]
  },
  {
   "cell_type": "markdown",
   "metadata": {},
   "source": [
    "### b) $(1+i)^4$"
   ]
  },
  {
   "cell_type": "code",
   "execution_count": 15,
   "metadata": {
    "ExecuteTime": {
     "end_time": "2021-03-17T18:11:46.651762Z",
     "start_time": "2021-03-17T18:11:46.642576Z"
    }
   },
   "outputs": [
    {
     "data": {
      "text/latex": [
       "$\\displaystyle 4e^{i3.141592653589793}$"
      ],
      "text/plain": [
       "<IPython.core.display.Math object>"
      ]
     },
     "metadata": {},
     "output_type": "display_data"
    },
    {
     "data": {
      "text/latex": [
       "$\\displaystyle 4\\times[\\cos(3.141592653589793)+i \\sin(3.141592653589793)]$"
      ],
      "text/plain": [
       "<IPython.core.display.Math object>"
      ]
     },
     "metadata": {},
     "output_type": "display_data"
    }
   ],
   "source": [
    "\n",
    "z=(1+1j)**4\n",
    "modulo=round(abs(z))\n",
    "fase=cm.phase(z)\n",
    "tupla=cm.polar(z)\n",
    "rta_polar=str(modulo)+\"e^{i\"+str(fase)+\"}\"\n",
    "\n",
    "display(Math(rta_polar))\n",
    "\n",
    "rta_trig=str(modulo)+r\"\\times[\\cos(\"+str(fase)+r\")+i \\sin(\"+str(fase)+\")]\"\n",
    "display(Math(rta_trig))"
   ]
  },
  {
   "cell_type": "markdown",
   "metadata": {
    "ExecuteTime": {
     "end_time": "2021-03-12T18:06:07.884547Z",
     "start_time": "2021-03-12T18:06:07.879147Z"
    }
   },
   "source": [
    "### c) $(-1+i)^3$"
   ]
  },
  {
   "cell_type": "code",
   "execution_count": 16,
   "metadata": {
    "ExecuteTime": {
     "end_time": "2021-03-17T18:11:46.663889Z",
     "start_time": "2021-03-17T18:11:46.653839Z"
    }
   },
   "outputs": [
    {
     "data": {
      "text/latex": [
       "$\\displaystyle 2.83e^{i0.79}$"
      ],
      "text/plain": [
       "<IPython.core.display.Math object>"
      ]
     },
     "metadata": {},
     "output_type": "display_data"
    },
    {
     "data": {
      "text/latex": [
       "$\\displaystyle 2.83[cos(0.79)+isin(0.79)]$"
      ],
      "text/plain": [
       "<IPython.core.display.Math object>"
      ]
     },
     "metadata": {},
     "output_type": "display_data"
    }
   ],
   "source": [
    "z=(-1+1j)**3\n",
    "modulo=round(abs(z),2)\n",
    "fase=round(cm.phase(z),2)\n",
    "tupla=cm.polar(z)\n",
    "\n",
    "rta_polar=str(modulo)+\"e^{i\"+str(fase)+\"}\"\n",
    "\n",
    "display(Math(rta_polar))\n",
    "\n",
    "rta_trig=str(modulo)+\"[cos(\"+str(fase)+\")+isin(\"+str(fase)+\")]\"\n",
    "display(Math(rta_trig))\n"
   ]
  },
  {
   "cell_type": "markdown",
   "metadata": {},
   "source": [
    "### d) $\\big(\\frac{1-i}{1+i}\\big)^{10}$"
   ]
  },
  {
   "cell_type": "code",
   "execution_count": 17,
   "metadata": {
    "ExecuteTime": {
     "end_time": "2021-03-17T18:11:46.675348Z",
     "start_time": "2021-03-17T18:11:46.666099Z"
    }
   },
   "outputs": [
    {
     "data": {
      "text/latex": [
       "$\\displaystyle 1.0e^{i(-1.57)}$"
      ],
      "text/plain": [
       "<IPython.core.display.Math object>"
      ]
     },
     "metadata": {},
     "output_type": "display_data"
    },
    {
     "data": {
      "text/latex": [
       "$\\displaystyle 1.0[cos(-1.57)+isin(-1.57)]$"
      ],
      "text/plain": [
       "<IPython.core.display.Math object>"
      ]
     },
     "metadata": {},
     "output_type": "display_data"
    }
   ],
   "source": [
    "z=((1-1j)/(1+1j))\n",
    "modulo=round(abs(z),2)\n",
    "fase=round(cm.phase(z),2)\n",
    "tupla=cm.polar(z)\n",
    "\n",
    "rta_polar=str(modulo)+\"e^{i(\"+str(fase)+\")}\"\n",
    "\n",
    "display(Math(rta_polar))\n",
    "\n",
    "rta_trig=str(modulo)+\"[cos(\"+str(fase)+\")+isin(\"+str(fase)+\")]\"\n",
    "display(Math(rta_trig))\n"
   ]
  },
  {
   "cell_type": "markdown",
   "metadata": {},
   "source": [
    "# Raíz enésima de un número complejo\n",
    "\n",
    "## 6) Determinar el valor correspondiente y graficar"
   ]
  },
  {
   "cell_type": "markdown",
   "metadata": {},
   "source": [
    "### a) $w=\\sqrt{1}$"
   ]
  },
  {
   "cell_type": "code",
   "execution_count": 87,
   "metadata": {
    "ExecuteTime": {
     "end_time": "2021-03-17T19:13:13.903155Z",
     "start_time": "2021-03-17T19:13:13.780269Z"
    }
   },
   "outputs": [
    {
     "data": {
      "text/plain": [
       "(1+0j)"
      ]
     },
     "metadata": {},
     "output_type": "display_data"
    },
    {
     "data": {
      "text/plain": [
       "(-1+0j)"
      ]
     },
     "metadata": {},
     "output_type": "display_data"
    },
    {
     "data": {
      "image/png": "[encoded data removed]",
      "text/plain": [
       "<Figure size 432x288 with 1 Axes>"
      ]
     },
     "metadata": {
      "needs_background": "light"
     },
     "output_type": "display_data"
    }
   ],
   "source": [
    "\n",
    "z=1+0j\n",
    "n=2\n",
    "modulo=round(abs(z)**(1/n),2)\n",
    "fase=cm.phase(z)\n",
    "fig, ax = plt.subplots()\n",
    "plt.grid()\n",
    "plt.xlabel(\"Parte Real\")\n",
    "plt.ylabel(\"Parte Iaginaria\")\n",
    "ax.axis([-1.5,1.5,-1.2,1.2])\n",
    "for k in range(0,n):\n",
    "    w=cm.rect(modulo, (fase+2*k*cm.pi)/n)\n",
    "    w = round(w.real,2) + round(w.imag,2)*1j\n",
    "    display(w)\n",
    "    ax.quiver(0,0,w.real,w.imag, angles='xy', scale_units='xy', scale=1 )\n"
   ]
  },
  {
   "cell_type": "markdown",
   "metadata": {
    "ExecuteTime": {
     "end_time": "2021-03-12T18:53:44.818305Z",
     "start_time": "2021-03-12T18:53:44.814054Z"
    }
   },
   "source": [
    "### b) $w=\\sqrt[3]{1}$"
   ]
  },
  {
   "cell_type": "code",
   "execution_count": 88,
   "metadata": {
    "ExecuteTime": {
     "end_time": "2021-03-17T19:13:16.420347Z",
     "start_time": "2021-03-17T19:13:16.287208Z"
    }
   },
   "outputs": [
    {
     "data": {
      "text/plain": [
       "(1+0j)"
      ]
     },
     "metadata": {},
     "output_type": "display_data"
    },
    {
     "data": {
      "text/plain": [
       "(-0.5+0.866j)"
      ]
     },
     "metadata": {},
     "output_type": "display_data"
    },
    {
     "data": {
      "text/plain": [
       "(-0.5-0.866j)"
      ]
     },
     "metadata": {},
     "output_type": "display_data"
    },
    {
     "data": {
      "image/png": "[encoded data removed]",
      "text/plain": [
       "<Figure size 432x288 with 1 Axes>"
      ]
     },
     "metadata": {
      "needs_background": "light"
     },
     "output_type": "display_data"
    }
   ],
   "source": [
    "z=1\n",
    "n=3\n",
    "modulo=round(abs(z)**(1/n),4)\n",
    "fase=cm.phase(z)\n",
    "fig, ax = plt.subplots()\n",
    "plt.grid()\n",
    "plt.xlabel(\"Parte Real\")\n",
    "plt.ylabel(\"Parte Iaginaria\")\n",
    "ax.axis([-1.5,1.5,-1.2,1.2])\n",
    "for k in range(0,n):\n",
    "    w=cm.rect(modulo, (fase+2*k*cm.pi)/n)\n",
    "    w = round(w.real,4) + round(w.imag,4)*1j\n",
    "    display(w)\n",
    "    ax.quiver(0,0,w.real,w.imag, angles='xy', scale_units='xy', scale=1 )"
   ]
  },
  {
   "cell_type": "markdown",
   "metadata": {
    "ExecuteTime": {
     "end_time": "2021-03-12T19:03:42.288068Z",
     "start_time": "2021-03-12T19:03:42.283178Z"
    }
   },
   "source": [
    "### c) $w=\\sqrt[4]{1}$"
   ]
  },
  {
   "cell_type": "code",
   "execution_count": 89,
   "metadata": {
    "ExecuteTime": {
     "end_time": "2021-03-17T19:13:26.200741Z",
     "start_time": "2021-03-17T19:13:26.067492Z"
    }
   },
   "outputs": [
    {
     "data": {
      "text/plain": [
       "(1+0j)"
      ]
     },
     "metadata": {},
     "output_type": "display_data"
    },
    {
     "data": {
      "text/plain": [
       "1j"
      ]
     },
     "metadata": {},
     "output_type": "display_data"
    },
    {
     "data": {
      "text/plain": [
       "(-1+0j)"
      ]
     },
     "metadata": {},
     "output_type": "display_data"
    },
    {
     "data": {
      "text/plain": [
       "(-0-1j)"
      ]
     },
     "metadata": {},
     "output_type": "display_data"
    },
    {
     "data": {
      "image/png": "[encoded data removed]",
      "text/plain": [
       "<Figure size 432x288 with 1 Axes>"
      ]
     },
     "metadata": {
      "needs_background": "light"
     },
     "output_type": "display_data"
    }
   ],
   "source": [
    "z=1\n",
    "n=4\n",
    "modulo=round(abs(z)**(1/n),4)\n",
    "fase=cm.phase(z)\n",
    "fig, ax = plt.subplots()\n",
    "plt.grid()\n",
    "plt.xlabel(\"Parte Real\")\n",
    "plt.ylabel(\"Parte Iaginaria\")\n",
    "ax.axis([-1.5,1.5,-1.2,1.2])\n",
    "for k in range(0,n):\n",
    "    w=cm.rect(modulo, (fase+2*k*cm.pi)/n)\n",
    "    w = round(w.real,4) + round(w.imag,4)*1j\n",
    "    display(w)\n",
    "    ax.quiver(0,0,w.real,w.imag, angles='xy', scale_units='xy', scale=1 )"
   ]
  },
  {
   "cell_type": "markdown",
   "metadata": {},
   "source": [
    "### d) $w=\\sqrt{-16}$"
   ]
  },
  {
   "cell_type": "code",
   "execution_count": 90,
   "metadata": {
    "ExecuteTime": {
     "end_time": "2021-03-17T19:13:32.847618Z",
     "start_time": "2021-03-17T19:13:32.731488Z"
    }
   },
   "outputs": [
    {
     "data": {
      "text/plain": [
       "4j"
      ]
     },
     "metadata": {},
     "output_type": "display_data"
    },
    {
     "data": {
      "text/plain": [
       "(-0-4j)"
      ]
     },
     "metadata": {},
     "output_type": "display_data"
    },
    {
     "data": {
      "image/png": "[encoded data removed]",
      "text/plain": [
       "<Figure size 432x288 with 1 Axes>"
      ]
     },
     "metadata": {
      "needs_background": "light"
     },
     "output_type": "display_data"
    }
   ],
   "source": [
    "z=-16\n",
    "n=2\n",
    "modulo=round(abs(z)**(1/n),4)\n",
    "fase=cm.phase(z)\n",
    "fig, ax = plt.subplots()\n",
    "plt.grid()\n",
    "plt.xlabel(\"Parte Real\")\n",
    "plt.ylabel(\"Parte Iaginaria\")\n",
    "ax.axis([-6,6,-5,5])\n",
    "for k in range(0,n):\n",
    "    w=cm.rect(modulo, (fase+2*k*cm.pi)/n)\n",
    "    w = round(w.real,4) + round(w.imag,4)*1j\n",
    "    display(w)\n",
    "    ax.quiver(0,0,w.real,w.imag, angles='xy', scale_units='xy', scale=1 )"
   ]
  },
  {
   "cell_type": "markdown",
   "metadata": {},
   "source": [
    "### e) $w=\\sqrt[3]{i}$"
   ]
  },
  {
   "cell_type": "code",
   "execution_count": 91,
   "metadata": {
    "ExecuteTime": {
     "end_time": "2021-03-17T19:13:43.049369Z",
     "start_time": "2021-03-17T19:13:42.923603Z"
    }
   },
   "outputs": [
    {
     "data": {
      "text/plain": [
       "(0.866+0.5j)"
      ]
     },
     "metadata": {},
     "output_type": "display_data"
    },
    {
     "data": {
      "text/plain": [
       "(-0.866+0.5j)"
      ]
     },
     "metadata": {},
     "output_type": "display_data"
    },
    {
     "data": {
      "text/plain": [
       "(-0-1j)"
      ]
     },
     "metadata": {},
     "output_type": "display_data"
    },
    {
     "data": {
      "image/png": "[encoded data removed]",
      "text/plain": [
       "<Figure size 432x288 with 1 Axes>"
      ]
     },
     "metadata": {
      "needs_background": "light"
     },
     "output_type": "display_data"
    }
   ],
   "source": [
    "z=1j\n",
    "n=3\n",
    "modulo=round(abs(z)**(1/n),4)\n",
    "fase=cm.phase(z)\n",
    "fig, ax = plt.subplots()\n",
    "plt.grid()\n",
    "plt.xlabel(\"Parte Real\")\n",
    "plt.ylabel(\"Parte Iaginaria\")\n",
    "ax.axis([-1.5,1.5,-1.2,1.2])\n",
    "for k in range(0,n):\n",
    "    w=cm.rect(modulo, (fase+2*k*cm.pi)/n)\n",
    "    w = round(w.real,4) + round(w.imag,4)*1j\n",
    "    display(w)\n",
    "    ax.quiver(0,0,w.real,w.imag, angles='xy', scale_units='xy', scale=1 )"
   ]
  },
  {
   "cell_type": "markdown",
   "metadata": {},
   "source": [
    "### f) $w=\\sqrt[3]{1+i}$"
   ]
  },
  {
   "cell_type": "code",
   "execution_count": 92,
   "metadata": {
    "ExecuteTime": {
     "end_time": "2021-03-17T19:13:57.960784Z",
     "start_time": "2021-03-17T19:13:57.795205Z"
    }
   },
   "outputs": [
    {
     "data": {
      "text/plain": [
       "(1.0843+0.2905j)"
      ]
     },
     "metadata": {},
     "output_type": "display_data"
    },
    {
     "data": {
      "text/plain": [
       "(-0.7937+0.7937j)"
      ]
     },
     "metadata": {},
     "output_type": "display_data"
    },
    {
     "data": {
      "text/plain": [
       "(-0.2905-1.0843j)"
      ]
     },
     "metadata": {},
     "output_type": "display_data"
    },
    {
     "data": {
      "image/png": "[encoded data removed]",
      "text/plain": [
       "<Figure size 432x288 with 1 Axes>"
      ]
     },
     "metadata": {
      "needs_background": "light"
     },
     "output_type": "display_data"
    }
   ],
   "source": [
    "z=1+1j\n",
    "n=3\n",
    "modulo=round(abs(z)**(1/n),4)\n",
    "fase=cm.phase(z)\n",
    "fig, ax = plt.subplots()\n",
    "plt.grid()\n",
    "plt.xlabel(\"Parte Real\")\n",
    "plt.ylabel(\"Parte Iaginaria\")\n",
    "ax.axis([-1.5,1.5,-1.2,1.2])\n",
    "for k in range(0,n):\n",
    "    w=cm.rect(modulo, (fase+2*k*cm.pi)/n)\n",
    "    w = round(w.real,4) + round(w.imag,4)*1j\n",
    "    display(w)\n",
    "    ax.quiver(0,0,w.real,w.imag, angles='xy', scale_units='xy', scale=1 )"
   ]
  },
  {
   "cell_type": "markdown",
   "metadata": {},
   "source": [
    "## 7) Expresar en forma cartesiana"
   ]
  },
  {
   "cell_type": "markdown",
   "metadata": {},
   "source": [
    "### a) $e^5$"
   ]
  },
  {
   "cell_type": "code",
   "execution_count": 24,
   "metadata": {
    "ExecuteTime": {
     "end_time": "2021-03-17T18:11:47.517621Z",
     "start_time": "2021-03-17T18:11:47.512714Z"
    }
   },
   "outputs": [
    {
     "data": {
      "text/plain": [
       "148.4132"
      ]
     },
     "execution_count": 24,
     "metadata": {},
     "output_type": "execute_result"
    }
   ],
   "source": [
    "round(cm.e**5,4)"
   ]
  },
  {
   "cell_type": "markdown",
   "metadata": {},
   "source": [
    "### b) $e^{5i}$"
   ]
  },
  {
   "cell_type": "code",
   "execution_count": 25,
   "metadata": {
    "ExecuteTime": {
     "end_time": "2021-03-17T18:11:47.526496Z",
     "start_time": "2021-03-17T18:11:47.519755Z"
    }
   },
   "outputs": [
    {
     "data": {
      "text/plain": [
       "(0.2837-0.9589j)"
      ]
     },
     "execution_count": 25,
     "metadata": {},
     "output_type": "execute_result"
    }
   ],
   "source": [
    "w=cm.e**(5*1j)\n",
    "w=round(w.real,4)+1j*round(w.imag,4)\n",
    "w"
   ]
  },
  {
   "cell_type": "markdown",
   "metadata": {},
   "source": [
    "### c) $e^{1+4i}$"
   ]
  },
  {
   "cell_type": "code",
   "execution_count": 26,
   "metadata": {
    "ExecuteTime": {
     "end_time": "2021-03-17T18:11:47.535074Z",
     "start_time": "2021-03-17T18:11:47.528880Z"
    }
   },
   "outputs": [
    {
     "data": {
      "text/plain": [
       "(-1.7768-2.0572j)"
      ]
     },
     "execution_count": 26,
     "metadata": {},
     "output_type": "execute_result"
    }
   ],
   "source": [
    "w=cm.e**(1+4j)\n",
    "w=round(w.real,4)+1j*round(w.imag,4)\n",
    "w"
   ]
  },
  {
   "cell_type": "markdown",
   "metadata": {},
   "source": [
    "### d) $e^{-3-2i}$"
   ]
  },
  {
   "cell_type": "code",
   "execution_count": 27,
   "metadata": {
    "ExecuteTime": {
     "end_time": "2021-03-17T18:11:47.544701Z",
     "start_time": "2021-03-17T18:11:47.537959Z"
    }
   },
   "outputs": [
    {
     "data": {
      "text/plain": [
       "(-0.0207-0.0453j)"
      ]
     },
     "execution_count": 27,
     "metadata": {},
     "output_type": "execute_result"
    }
   ],
   "source": [
    "w=cm.e**(-3-2j)\n",
    "w=round(w.real,4)+1j*round(w.imag,4)\n",
    "w"
   ]
  },
  {
   "cell_type": "markdown",
   "metadata": {},
   "source": [
    "## 8) Determinar la parte real e imaginaria"
   ]
  },
  {
   "cell_type": "markdown",
   "metadata": {},
   "source": [
    "### a) $e^{5z}$"
   ]
  },
  {
   "cell_type": "code",
   "execution_count": 28,
   "metadata": {
    "ExecuteTime": {
     "end_time": "2021-03-17T18:11:48.309586Z",
     "start_time": "2021-03-17T18:11:47.547203Z"
    },
    "scrolled": true
   },
   "outputs": [
    {
     "data": {
      "text/latex": [
       "$\\displaystyle e^{5 x + 5 i y}$"
      ],
      "text/plain": [
       "exp(5*x + 5*I*y)"
      ]
     },
     "metadata": {},
     "output_type": "display_data"
    },
    {
     "data": {
      "text/latex": [
       "$\\displaystyle e^{5 x} \\cos{\\left(5 y \\right)}$"
      ],
      "text/plain": [
       "exp(5*x)*cos(5*y)"
      ]
     },
     "metadata": {},
     "output_type": "display_data"
    },
    {
     "data": {
      "text/latex": [
       "$\\displaystyle e^{5 x} \\sin{\\left(5 y \\right)}$"
      ],
      "text/plain": [
       "exp(5*x)*sin(5*y)"
      ]
     },
     "metadata": {},
     "output_type": "display_data"
    }
   ],
   "source": [
    "x,y =symbols('x y', real=True)\n",
    "z=x+I*y\n",
    "w=exp(5*z)\n",
    "display(w)\n",
    "display(re(w))\n",
    "display(im(w))"
   ]
  },
  {
   "cell_type": "markdown",
   "metadata": {},
   "source": [
    "### b) $e^{z^2}$"
   ]
  },
  {
   "cell_type": "code",
   "execution_count": 29,
   "metadata": {
    "ExecuteTime": {
     "end_time": "2021-03-17T18:11:48.341341Z",
     "start_time": "2021-03-17T18:11:48.311678Z"
    }
   },
   "outputs": [
    {
     "data": {
      "text/latex": [
       "$\\displaystyle e^{\\left(x + i y\\right)^{2}}$"
      ],
      "text/plain": [
       "exp((x + I*y)**2)"
      ]
     },
     "metadata": {},
     "output_type": "display_data"
    },
    {
     "data": {
      "text/latex": [
       "$\\displaystyle e^{x^{2} - y^{2}} \\cos{\\left(2 x y \\right)}$"
      ],
      "text/plain": [
       "exp(x**2 - y**2)*cos(2*x*y)"
      ]
     },
     "metadata": {},
     "output_type": "display_data"
    },
    {
     "data": {
      "text/latex": [
       "$\\displaystyle e^{x^{2} - y^{2}} \\sin{\\left(2 x y \\right)}$"
      ],
      "text/plain": [
       "exp(x**2 - y**2)*sin(2*x*y)"
      ]
     },
     "metadata": {},
     "output_type": "display_data"
    }
   ],
   "source": [
    "w=(exp(z**2))\n",
    "display(w)\n",
    "display(re(w))\n",
    "display(im(w))"
   ]
  },
  {
   "cell_type": "markdown",
   "metadata": {},
   "source": [
    "### c) $3^z$"
   ]
  },
  {
   "cell_type": "code",
   "execution_count": 30,
   "metadata": {
    "ExecuteTime": {
     "end_time": "2021-03-17T18:11:48.364307Z",
     "start_time": "2021-03-17T18:11:48.343097Z"
    }
   },
   "outputs": [
    {
     "data": {
      "text/latex": [
       "$\\displaystyle 3^{x + i y}$"
      ],
      "text/plain": [
       "3**(x + I*y)"
      ]
     },
     "metadata": {},
     "output_type": "display_data"
    },
    {
     "data": {
      "text/latex": [
       "$\\displaystyle 3^{x} \\operatorname{re}{\\left(3^{i y}\\right)}$"
      ],
      "text/plain": [
       "3**x*re(3**(I*y))"
      ]
     },
     "metadata": {},
     "output_type": "display_data"
    },
    {
     "data": {
      "text/latex": [
       "$\\displaystyle 3^{x} \\operatorname{im}{\\left(3^{i y}\\right)}$"
      ],
      "text/plain": [
       "3**x*im(3**(I*y))"
      ]
     },
     "metadata": {},
     "output_type": "display_data"
    }
   ],
   "source": [
    "w=(3**z)\n",
    "display(w)\n",
    "display(re(w))\n",
    "display(im(w))\n",
    "\n"
   ]
  },
  {
   "cell_type": "markdown",
   "metadata": {},
   "source": [
    "## 9) Graficar la función $f(z) =e^z=e^{x+iy}$ para los siguientes casos:"
   ]
  },
  {
   "cell_type": "markdown",
   "metadata": {},
   "source": [
    "### a) $x=5; 0\\leq y \\leq\\frac{7\\pi}{6}; \\Delta y=\\frac{\\pi}{6}$"
   ]
  },
  {
   "cell_type": "code",
   "execution_count": 93,
   "metadata": {
    "ExecuteTime": {
     "end_time": "2021-03-17T19:14:21.599284Z",
     "start_time": "2021-03-17T19:14:21.459046Z"
    }
   },
   "outputs": [
    {
     "data": {
      "text/plain": [
       "<matplotlib.collections.PathCollection at 0x7f420644e0d0>"
      ]
     },
     "execution_count": 93,
     "metadata": {},
     "output_type": "execute_result"
    },
    {
     "data": {
      "image/png": "[encoded data removed]",
      "text/plain": [
       "<Figure size 432x432 with 1 Axes>"
      ]
     },
     "metadata": {
      "needs_background": "light"
     },
     "output_type": "display_data"
    }
   ],
   "source": [
    "y=np.linspace(0,7*cm.pi/6,7)\n",
    "x=5\n",
    "mod=cm.e**x\n",
    "\n",
    "\n",
    "w=np.array([[cm.rect(mod, fase).real,cm.rect(mod, fase).imag] for fase in y])\n",
    "\n",
    "fig, ax = plt.subplots(figsize=(6,6))\n",
    "plt.grid()\n",
    "plt.xlabel(\"Parte Real\")\n",
    "plt.ylabel(\"Parte Iaginaria\")\n",
    "ax.axis([-160,160,-160,160])\n",
    "ax.scatter(w[:,0],w[:,1])\n"
   ]
  },
  {
   "cell_type": "markdown",
   "metadata": {},
   "source": [
    "### b) $0\\leq x \\leq 1,6; \\Delta x=0,2; y=\\frac{\\pi}{4}$"
   ]
  },
  {
   "cell_type": "code",
   "execution_count": 106,
   "metadata": {
    "ExecuteTime": {
     "end_time": "2021-03-17T19:23:29.121214Z",
     "start_time": "2021-03-17T19:23:28.985227Z"
    }
   },
   "outputs": [
    {
     "data": {
      "text/plain": [
       "<matplotlib.collections.PathCollection at 0x7f420648d6a0>"
      ]
     },
     "execution_count": 106,
     "metadata": {},
     "output_type": "execute_result"
    },
    {
     "data": {
      "image/png": "[encoded data removed]",
      "text/plain": [
       "<Figure size 432x432 with 1 Axes>"
      ]
     },
     "metadata": {
      "needs_background": "light"
     },
     "output_type": "display_data"
    }
   ],
   "source": [
    "y=cm.pi/4\n",
    "x=np.linspace(0,1.6,int(1.6/0.2))\n",
    "modulo=cm.e**x\n",
    "\n",
    "\n",
    "w=np.array([[cm.rect(mod, y).real,cm.rect(mod, y).imag] for mod in modulo])\n",
    "\n",
    "fig, ax = plt.subplots(figsize=(6,6))\n",
    "plt.grid()\n",
    "plt.xlabel(\"Parte Real\")\n",
    "plt.ylabel(\"Parte Iaginaria\")\n",
    "ax.axis([0,4,0,4])\n",
    "ax.scatter(w[:,0],w[:,1])\n"
   ]
  },
  {
   "cell_type": "markdown",
   "metadata": {},
   "source": [
    "### c) $0\\leq x \\leq 1,6;\\Delta x=0,2; 0\\leq y \\leq\\frac{7\\pi}{6}; \\Delta y=\\frac{\\pi}{6}$ "
   ]
  },
  {
   "cell_type": "code",
   "execution_count": 110,
   "metadata": {
    "ExecuteTime": {
     "end_time": "2021-03-17T19:50:33.899572Z",
     "start_time": "2021-03-17T19:50:33.780915Z"
    }
   },
   "outputs": [
    {
     "data": {
      "text/plain": [
       "<matplotlib.collections.PathCollection at 0x7f420626df10>"
      ]
     },
     "execution_count": 110,
     "metadata": {},
     "output_type": "execute_result"
    },
    {
     "data": {
      "image/png": "[encoded data removed]",
      "text/plain": [
       "<Figure size 432x432 with 1 Axes>"
      ]
     },
     "metadata": {
      "needs_background": "light"
     },
     "output_type": "display_data"
    }
   ],
   "source": [
    "y=np.linspace(0,7*cm.pi/6,7)\n",
    "x=np.linspace(0,1.6,int(1.6/0.2))\n",
    "modulo=cm.e**x\n",
    "\n",
    "\n",
    "w=np.array([[cm.rect(mod, fase).real,cm.rect(mod, fase).imag] for mod,fase in zip(modulo,y) ])\n",
    "\n",
    "fig, ax = plt.subplots(figsize=(6,6))\n",
    "plt.grid()\n",
    "plt.xlabel(\"Parte Real\")\n",
    "plt.ylabel(\"Parte Iaginaria\")\n",
    "ax.axis([-5,5,-5,5])\n",
    "ax.scatter(w[:,0],w[:,1])"
   ]
  },
  {
   "cell_type": "markdown",
   "metadata": {},
   "source": [
    "### 10) Determinar todos los valores de $z$ tales que:"
   ]
  },
  {
   "cell_type": "markdown",
   "metadata": {},
   "source": [
    "### a) $|e^{-z}|<1$"
   ]
  },
  {
   "cell_type": "markdown",
   "metadata": {},
   "source": [
    "### b) $e^{\\bar{z}}=\\overline{e^z}$"
   ]
  },
  {
   "cell_type": "markdown",
   "metadata": {},
   "source": [
    "### c) $Re\\{e^{2z}\\}=0$"
   ]
  },
  {
   "cell_type": "markdown",
   "metadata": {},
   "source": [
    "## 11) Resolver las ecuaciones dadas:"
   ]
  },
  {
   "cell_type": "markdown",
   "metadata": {},
   "source": [
    "### a) $e^z=12$"
   ]
  },
  {
   "cell_type": "code",
   "execution_count": null,
   "metadata": {},
   "outputs": [],
   "source": []
  },
  {
   "cell_type": "markdown",
   "metadata": {},
   "source": [
    "### b) $e^z=-7$"
   ]
  },
  {
   "cell_type": "code",
   "execution_count": null,
   "metadata": {},
   "outputs": [],
   "source": []
  },
  {
   "cell_type": "markdown",
   "metadata": {},
   "source": [
    "### c) $e^z=4+3i$"
   ]
  },
  {
   "cell_type": "code",
   "execution_count": null,
   "metadata": {},
   "outputs": [],
   "source": []
  },
  {
   "cell_type": "markdown",
   "metadata": {},
   "source": [
    "## 12) Funciones trigonométricas e hiperbólicas"
   ]
  },
  {
   "cell_type": "markdown",
   "metadata": {},
   "source": [
    "### a) $\\cos 6i$"
   ]
  },
  {
   "cell_type": "code",
   "execution_count": 147,
   "metadata": {
    "ExecuteTime": {
     "end_time": "2021-03-17T22:24:27.457319Z",
     "start_time": "2021-03-17T22:24:27.447653Z"
    }
   },
   "outputs": [
    {
     "data": {
      "text/plain": [
       "(201.7156361224559-0j)"
      ]
     },
     "metadata": {},
     "output_type": "display_data"
    },
    {
     "data": {
      "text/plain": [
       "-201.71315737027916"
      ]
     },
     "metadata": {},
     "output_type": "display_data"
    }
   ],
   "source": [
    "display(cm.cos(6j))\n",
    "display(0.5*(cm.e**-6 + cm.e**6))"
   ]
  },
  {
   "cell_type": "markdown",
   "metadata": {},
   "source": [
    "### b) $\\sin 3i$"
   ]
  },
  {
   "cell_type": "code",
   "execution_count": 150,
   "metadata": {
    "ExecuteTime": {
     "end_time": "2021-03-17T22:34:13.542463Z",
     "start_time": "2021-03-17T22:34:13.534781Z"
    }
   },
   "outputs": [
    {
     "data": {
      "text/plain": [
       "10.017874927409903j"
      ]
     },
     "metadata": {},
     "output_type": "display_data"
    },
    {
     "data": {
      "text/plain": [
       "10.0178749274099j"
      ]
     },
     "metadata": {},
     "output_type": "display_data"
    }
   ],
   "source": [
    "display(cm.sin(3j))\n",
    "display((0.5/1j)*(cm.e**(3j*1j)-cm.e**(-3j*1j)))"
   ]
  },
  {
   "cell_type": "markdown",
   "metadata": {},
   "source": [
    "### c) $\\cosh i$ "
   ]
  },
  {
   "cell_type": "code",
   "execution_count": 140,
   "metadata": {
    "ExecuteTime": {
     "end_time": "2021-03-17T22:21:57.175409Z",
     "start_time": "2021-03-17T22:21:57.170762Z"
    }
   },
   "outputs": [
    {
     "data": {
      "text/plain": [
       "(0.5403023058681398+0j)"
      ]
     },
     "execution_count": 140,
     "metadata": {},
     "output_type": "execute_result"
    }
   ],
   "source": [
    "cm.cosh(1j)"
   ]
  },
  {
   "cell_type": "markdown",
   "metadata": {},
   "source": [
    "### d) $\\cos(3-4i)$"
   ]
  },
  {
   "cell_type": "code",
   "execution_count": 141,
   "metadata": {
    "ExecuteTime": {
     "end_time": "2021-03-17T22:22:12.573647Z",
     "start_time": "2021-03-17T22:22:12.567662Z"
    }
   },
   "outputs": [
    {
     "data": {
      "text/plain": [
       "(-27.034945603074224+3.851153334811777j)"
      ]
     },
     "execution_count": 141,
     "metadata": {},
     "output_type": "execute_result"
    }
   ],
   "source": [
    "cm.cos(3-4j)"
   ]
  },
  {
   "cell_type": "markdown",
   "metadata": {},
   "source": [
    "### e) $\\sin(2+5i)$"
   ]
  },
  {
   "cell_type": "code",
   "execution_count": 142,
   "metadata": {
    "ExecuteTime": {
     "end_time": "2021-03-17T22:22:38.733436Z",
     "start_time": "2021-03-17T22:22:38.728123Z"
    }
   },
   "outputs": [
    {
     "data": {
      "text/plain": [
       "(67.47891523845588-30.879431343588244j)"
      ]
     },
     "execution_count": 142,
     "metadata": {},
     "output_type": "execute_result"
    }
   ],
   "source": [
    "cm.sin(2+5j)"
   ]
  },
  {
   "cell_type": "markdown",
   "metadata": {},
   "source": [
    "### f)  $\\cosh(1+3i)$"
   ]
  },
  {
   "cell_type": "code",
   "execution_count": 143,
   "metadata": {
    "ExecuteTime": {
     "end_time": "2021-03-17T22:22:57.260518Z",
     "start_time": "2021-03-17T22:22:57.255366Z"
    }
   },
   "outputs": [
    {
     "data": {
      "text/plain": [
       "(-1.5276382501165433+0.1658444019189788j)"
      ]
     },
     "execution_count": 143,
     "metadata": {},
     "output_type": "execute_result"
    }
   ],
   "source": [
    "cm.cosh(1+3j)"
   ]
  },
  {
   "cell_type": "markdown",
   "metadata": {},
   "source": [
    "### g) $\\sinh(2-i)$"
   ]
  },
  {
   "cell_type": "code",
   "execution_count": 144,
   "metadata": {
    "ExecuteTime": {
     "end_time": "2021-03-17T22:23:18.076959Z",
     "start_time": "2021-03-17T22:23:18.071517Z"
    }
   },
   "outputs": [
    {
     "data": {
      "text/plain": [
       "(1.9596010414216063-3.165778513216168j)"
      ]
     },
     "execution_count": 144,
     "metadata": {},
     "output_type": "execute_result"
    }
   ],
   "source": [
    "cm.sinh(2-1j)"
   ]
  },
  {
   "cell_type": "markdown",
   "metadata": {},
   "source": [
    "## 13) Demostrar que:"
   ]
  },
  {
   "cell_type": "markdown",
   "metadata": {},
   "source": [
    "### a)$|\\cos z|^2 = (\\cos x)^2 + (\\sinh y)^2$"
   ]
  },
  {
   "cell_type": "markdown",
   "metadata": {},
   "source": [
    "### b) $|\\sin z|^2 = (\\sin x)^2 + (\\sinh y)^2$"
   ]
  },
  {
   "cell_type": "markdown",
   "metadata": {},
   "source": [
    "## 14) Determinar todas las soluciones de:"
   ]
  },
  {
   "cell_type": "markdown",
   "metadata": {
    "ExecuteTime": {
     "end_time": "2021-03-18T12:11:23.288731Z",
     "start_time": "2021-03-18T12:11:23.285187Z"
    }
   },
   "source": [
    "### a) $\\cos z = 15$"
   ]
  },
  {
   "cell_type": "markdown",
   "metadata": {
    "ExecuteTime": {
     "end_time": "2021-03-18T12:11:23.288731Z",
     "start_time": "2021-03-18T12:11:23.285187Z"
    }
   },
   "source": [
    "### b) $\\sin z = 32$"
   ]
  },
  {
   "cell_type": "markdown",
   "metadata": {
    "ExecuteTime": {
     "end_time": "2021-03-18T12:11:23.288731Z",
     "start_time": "2021-03-18T12:11:23.285187Z"
    }
   },
   "source": [
    "### c)  $\\cosh z = 0.5$"
   ]
  },
  {
   "cell_type": "markdown",
   "metadata": {
    "ExecuteTime": {
     "end_time": "2021-03-18T12:11:23.288731Z",
     "start_time": "2021-03-18T12:11:23.285187Z"
    }
   },
   "source": [
    "### d) $\\sin z =i\\sinh 1$"
   ]
  },
  {
   "cell_type": "markdown",
   "metadata": {},
   "source": [
    "# Función logarítmica"
   ]
  },
  {
   "cell_type": "markdown",
   "metadata": {
    "ExecuteTime": {
     "end_time": "2021-03-18T12:11:23.288731Z",
     "start_time": "2021-03-18T12:11:23.285187Z"
    }
   },
   "source": [
    "### 15) Calcular:"
   ]
  },
  {
   "cell_type": "markdown",
   "metadata": {
    "ExecuteTime": {
     "end_time": "2021-03-18T12:11:23.288731Z",
     "start_time": "2021-03-18T12:11:23.285187Z"
    }
   },
   "source": [
    "### a)  $\\ln 1$"
   ]
  },
  {
   "cell_type": "code",
   "execution_count": 6,
   "metadata": {
    "ExecuteTime": {
     "end_time": "2021-03-18T12:36:03.683762Z",
     "start_time": "2021-03-18T12:36:03.676913Z"
    }
   },
   "outputs": [
    {
     "data": {
      "text/plain": [
       "0j"
      ]
     },
     "execution_count": 6,
     "metadata": {},
     "output_type": "execute_result"
    }
   ],
   "source": [
    "cm.log(1+0j)"
   ]
  },
  {
   "cell_type": "markdown",
   "metadata": {
    "ExecuteTime": {
     "end_time": "2021-03-18T12:11:23.288731Z",
     "start_time": "2021-03-18T12:11:23.285187Z"
    }
   },
   "source": [
    "### b) $\\ln(-1)$"
   ]
  },
  {
   "cell_type": "code",
   "execution_count": 7,
   "metadata": {
    "ExecuteTime": {
     "end_time": "2021-03-18T12:36:30.530770Z",
     "start_time": "2021-03-18T12:36:30.525232Z"
    }
   },
   "outputs": [
    {
     "data": {
      "text/plain": [
       "3.141592653589793j"
      ]
     },
     "execution_count": 7,
     "metadata": {},
     "output_type": "execute_result"
    }
   ],
   "source": [
    "cm.log(-1+0j)"
   ]
  },
  {
   "cell_type": "markdown",
   "metadata": {
    "ExecuteTime": {
     "end_time": "2021-03-18T12:11:23.288731Z",
     "start_time": "2021-03-18T12:11:23.285187Z"
    }
   },
   "source": [
    "### c) $\\ln i$"
   ]
  },
  {
   "cell_type": "code",
   "execution_count": 8,
   "metadata": {
    "ExecuteTime": {
     "end_time": "2021-03-18T12:37:04.904101Z",
     "start_time": "2021-03-18T12:37:04.898789Z"
    }
   },
   "outputs": [
    {
     "data": {
      "text/plain": [
       "1.5707963267948966j"
      ]
     },
     "execution_count": 8,
     "metadata": {},
     "output_type": "execute_result"
    }
   ],
   "source": [
    "cm.log(1j)"
   ]
  },
  {
   "cell_type": "markdown",
   "metadata": {
    "ExecuteTime": {
     "end_time": "2021-03-18T12:11:23.288731Z",
     "start_time": "2021-03-18T12:11:23.285187Z"
    }
   },
   "source": [
    "## 16) Calcular y representar gráficamente al menos cuatro valores de la solución:"
   ]
  },
  {
   "cell_type": "markdown",
   "metadata": {
    "ExecuteTime": {
     "end_time": "2021-03-18T12:11:23.288731Z",
     "start_time": "2021-03-18T12:11:23.285187Z"
    }
   },
   "source": [
    "### a) $\\ln (3+5i)$"
   ]
  },
  {
   "cell_type": "code",
   "execution_count": 9,
   "metadata": {
    "ExecuteTime": {
     "end_time": "2021-03-18T12:37:57.400209Z",
     "start_time": "2021-03-18T12:37:57.394834Z"
    }
   },
   "outputs": [
    {
     "data": {
      "text/plain": [
       "(1.7631802623080808+1.0303768265243125j)"
      ]
     },
     "execution_count": 9,
     "metadata": {},
     "output_type": "execute_result"
    }
   ],
   "source": [
    "cm.log(3+5j)"
   ]
  },
  {
   "cell_type": "markdown",
   "metadata": {
    "ExecuteTime": {
     "end_time": "2021-03-18T12:11:23.288731Z",
     "start_time": "2021-03-18T12:11:23.285187Z"
    }
   },
   "source": [
    "### b) $\\ln(\\sqrt 3-2i)$"
   ]
  },
  {
   "cell_type": "code",
   "execution_count": 10,
   "metadata": {
    "ExecuteTime": {
     "end_time": "2021-03-18T12:38:52.239645Z",
     "start_time": "2021-03-18T12:38:52.235209Z"
    }
   },
   "outputs": [
    {
     "data": {
      "text/plain": [
       "(0.9729550745276567-0.857071947850131j)"
      ]
     },
     "execution_count": 10,
     "metadata": {},
     "output_type": "execute_result"
    }
   ],
   "source": [
    "cm.log(3**0.5-2j)"
   ]
  },
  {
   "cell_type": "markdown",
   "metadata": {
    "ExecuteTime": {
     "end_time": "2021-03-18T12:11:23.288731Z",
     "start_time": "2021-03-18T12:11:23.285187Z"
    }
   },
   "source": [
    "## 17) Demostrar que:"
   ]
  },
  {
   "cell_type": "markdown",
   "metadata": {
    "ExecuteTime": {
     "end_time": "2021-03-18T12:11:23.288731Z",
     "start_time": "2021-03-18T12:11:23.285187Z"
    }
   },
   "source": [
    "### a) $\\ln (-ie)=1-i\\frac{\\pi}{2}$"
   ]
  },
  {
   "cell_type": "code",
   "execution_count": 11,
   "metadata": {
    "ExecuteTime": {
     "end_time": "2021-03-18T12:39:50.087832Z",
     "start_time": "2021-03-18T12:39:50.082739Z"
    }
   },
   "outputs": [
    {
     "data": {
      "text/plain": [
       "(1-1.5707963267948966j)"
      ]
     },
     "execution_count": 11,
     "metadata": {},
     "output_type": "execute_result"
    }
   ],
   "source": [
    "cm.log(-cm.e*1j)"
   ]
  },
  {
   "cell_type": "markdown",
   "metadata": {
    "ExecuteTime": {
     "end_time": "2021-03-18T12:11:23.288731Z",
     "start_time": "2021-03-18T12:11:23.285187Z"
    }
   },
   "source": [
    "###  b) $\\ln(1-i)=\\frac{1}{2}\\ln 2-i\\frac{\\pi}{4}$"
   ]
  },
  {
   "cell_type": "code",
   "execution_count": 12,
   "metadata": {
    "ExecuteTime": {
     "end_time": "2021-03-18T12:40:17.749911Z",
     "start_time": "2021-03-18T12:40:17.745587Z"
    }
   },
   "outputs": [
    {
     "data": {
      "text/plain": [
       "(0.34657359027997264+0.7853981633974483j)"
      ]
     },
     "execution_count": 12,
     "metadata": {},
     "output_type": "execute_result"
    }
   ],
   "source": [
    "cm.log(1+1j)"
   ]
  },
  {
   "cell_type": "markdown",
   "metadata": {},
   "source": [
    "# Regiones del plano complejo"
   ]
  },
  {
   "cell_type": "markdown",
   "metadata": {
    "ExecuteTime": {
     "end_time": "2021-03-18T12:11:23.288731Z",
     "start_time": "2021-03-18T12:11:23.285187Z"
    }
   },
   "source": [
    "## 18) Graficar los lugares geométricos correspondientes a:"
   ]
  },
  {
   "cell_type": "markdown",
   "metadata": {
    "ExecuteTime": {
     "end_time": "2021-03-18T12:11:23.288731Z",
     "start_time": "2021-03-18T12:11:23.285187Z"
    }
   },
   "source": [
    "###  a) $|z|\\leq 3$"
   ]
  },
  {
   "cell_type": "markdown",
   "metadata": {
    "ExecuteTime": {
     "end_time": "2021-03-18T12:11:23.288731Z",
     "start_time": "2021-03-18T12:11:23.285187Z"
    }
   },
   "source": [
    "### b) $Re\\{z\\}\\geq -2$  "
   ]
  },
  {
   "cell_type": "markdown",
   "metadata": {
    "ExecuteTime": {
     "end_time": "2021-03-18T12:11:23.288731Z",
     "start_time": "2021-03-18T12:11:23.285187Z"
    }
   },
   "source": [
    "### c) $Im\\{z\\} < 4$"
   ]
  },
  {
   "cell_type": "markdown",
   "metadata": {
    "ExecuteTime": {
     "end_time": "2021-03-18T12:11:23.288731Z",
     "start_time": "2021-03-18T12:11:23.285187Z"
    }
   },
   "source": [
    "### d) $|Arg ~ z|<\\frac{\\pi}{2}$"
   ]
  },
  {
   "cell_type": "markdown",
   "metadata": {
    "ExecuteTime": {
     "end_time": "2021-03-18T12:11:23.288731Z",
     "start_time": "2021-03-18T12:11:23.285187Z"
    }
   },
   "source": [
    "### f) $0< Arg ~ z <\\frac{2\\pi}{3}$"
   ]
  },
  {
   "cell_type": "markdown",
   "metadata": {
    "ExecuteTime": {
     "end_time": "2021-03-18T12:11:23.288731Z",
     "start_time": "2021-03-18T12:11:23.285187Z"
    }
   },
   "source": [
    "### g) $|z+1|\\leq3;-\\frac{\\pi}{4}\\leq Arg ~ z \\leq \\frac{\\pi}{4}$"
   ]
  },
  {
   "cell_type": "markdown",
   "metadata": {
    "ExecuteTime": {
     "end_time": "2021-03-18T12:11:23.288731Z",
     "start_time": "2021-03-18T12:11:23.285187Z"
    }
   },
   "source": [
    "### h) $|z|\\leq 1; 0\\leq Arg ~z \\leq \\frac{\\pi}{3}$"
   ]
  },
  {
   "cell_type": "markdown",
   "metadata": {
    "ExecuteTime": {
     "end_time": "2021-03-18T12:11:23.288731Z",
     "start_time": "2021-03-18T12:11:23.285187Z"
    }
   },
   "source": [
    "### i) $1\\leq|z-3|\\leq2$\t"
   ]
  },
  {
   "cell_type": "markdown",
   "metadata": {
    "ExecuteTime": {
     "end_time": "2021-03-18T12:11:23.288731Z",
     "start_time": "2021-03-18T12:11:23.285187Z"
    }
   },
   "source": [
    "### j) $|\\frac{z+1}{z-1}|=\\sqrt2$"
   ]
  },
  {
   "cell_type": "markdown",
   "metadata": {
    "ExecuteTime": {
     "end_time": "2021-03-18T12:11:23.288731Z",
     "start_time": "2021-03-18T12:11:23.285187Z"
    }
   },
   "source": [
    "### k) $Im\\lbrace \\frac{z+1}{z-1}\\rbrace\\leq2$"
   ]
  },
  {
   "cell_type": "code",
   "execution_count": null,
   "metadata": {},
   "outputs": [],
   "source": []
  }
 ],
 "metadata": {
  "hide_input": false,
  "kernelspec": {
   "display_name": "Python 3.8.2 64-bit ('lcapyenv': conda)",
   "language": "python",
   "name": "python38264bitlcapyenvcondad26ad89c9a0542d9b9ce2eec1b4cadb7"
  },
  "language_info": {
   "codemirror_mode": {
    "name": "ipython",
    "version": 3
   },
   "file_extension": ".py",
   "mimetype": "text/x-python",
   "name": "python",
   "nbconvert_exporter": "python",
   "pygments_lexer": "ipython3",
   "version": "3.8.2"
  }
 },
 "nbformat": 4,
 "nbformat_minor": 4
}
